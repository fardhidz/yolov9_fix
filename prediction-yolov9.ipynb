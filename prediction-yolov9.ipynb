{
 "cells": [
  {
   "cell_type": "code",
   "execution_count": 1,
   "metadata": {},
   "outputs": [
    {
     "name": "stderr",
     "output_type": "stream",
     "text": [
      "'nvidia-smi' is not recognized as an internal or external command,\n",
      "operable program or batch file.\n"
     ]
    }
   ],
   "source": [
    "!nvidia-smi"
   ]
  },
  {
   "cell_type": "code",
   "execution_count": 2,
   "metadata": {},
   "outputs": [
    {
     "name": "stdout",
     "output_type": "stream",
     "text": [
      "c:\\Ardhi\\KULIAH SETISS\\BIG DATA PROJECT\\SATRIA DATA\\FILE TAHUN LALU\\comp-satria-data-2023\n"
     ]
    }
   ],
   "source": [
    "import os\n",
    "HOME = os.getcwd()\n",
    "print(HOME)"
   ]
  },
  {
   "cell_type": "markdown",
   "metadata": {},
   "source": [
    "Install Yolov9"
   ]
  },
  {
   "cell_type": "code",
   "execution_count": 5,
   "metadata": {},
   "outputs": [
    {
     "name": "stderr",
     "output_type": "stream",
     "text": [
      "Cloning into 'yolov9'...\n"
     ]
    }
   ],
   "source": [
    "!git clone https://github.com/WongKinYiu/yolov9.git"
   ]
  },
  {
   "cell_type": "code",
   "execution_count": 9,
   "metadata": {},
   "outputs": [
    {
     "name": "stdout",
     "output_type": "stream",
     "text": [
      "Requirement already satisfied: gitpython in c:\\users\\fardhi dzakwan\\anaconda3\\lib\\site-packages (from -r C:/Ardhi/KULIAH SETISS/BIG DATA PROJECT/SATRIA DATA/FILE TAHUN LALU/comp-satria-data-2023/yolov9/requirements.txt (line 5)) (3.1.43)\n",
      "Requirement already satisfied: ipython in c:\\users\\fardhi dzakwan\\anaconda3\\lib\\site-packages (from -r C:/Ardhi/KULIAH SETISS/BIG DATA PROJECT/SATRIA DATA/FILE TAHUN LALU/comp-satria-data-2023/yolov9/requirements.txt (line 6)) (8.12.0)\n",
      "Requirement already satisfied: matplotlib>=3.2.2 in c:\\users\\fardhi dzakwan\\anaconda3\\lib\\site-packages (from -r C:/Ardhi/KULIAH SETISS/BIG DATA PROJECT/SATRIA DATA/FILE TAHUN LALU/comp-satria-data-2023/yolov9/requirements.txt (line 7)) (3.7.1)\n",
      "Requirement already satisfied: numpy>=1.18.5 in c:\\users\\fardhi dzakwan\\anaconda3\\lib\\site-packages (from -r C:/Ardhi/KULIAH SETISS/BIG DATA PROJECT/SATRIA DATA/FILE TAHUN LALU/comp-satria-data-2023/yolov9/requirements.txt (line 8)) (1.26.4)\n",
      "Requirement already satisfied: opencv-python>=4.1.1 in c:\\users\\fardhi dzakwan\\anaconda3\\lib\\site-packages (from -r C:/Ardhi/KULIAH SETISS/BIG DATA PROJECT/SATRIA DATA/FILE TAHUN LALU/comp-satria-data-2023/yolov9/requirements.txt (line 9)) (4.9.0.80)\n",
      "Requirement already satisfied: Pillow>=7.1.2 in c:\\users\\fardhi dzakwan\\anaconda3\\lib\\site-packages (from -r C:/Ardhi/KULIAH SETISS/BIG DATA PROJECT/SATRIA DATA/FILE TAHUN LALU/comp-satria-data-2023/yolov9/requirements.txt (line 10)) (9.4.0)\n",
      "Requirement already satisfied: psutil in c:\\users\\fardhi dzakwan\\anaconda3\\lib\\site-packages (from -r C:/Ardhi/KULIAH SETISS/BIG DATA PROJECT/SATRIA DATA/FILE TAHUN LALU/comp-satria-data-2023/yolov9/requirements.txt (line 11)) (5.9.0)\n",
      "Requirement already satisfied: PyYAML>=5.3.1 in c:\\users\\fardhi dzakwan\\anaconda3\\lib\\site-packages (from -r C:/Ardhi/KULIAH SETISS/BIG DATA PROJECT/SATRIA DATA/FILE TAHUN LALU/comp-satria-data-2023/yolov9/requirements.txt (line 12)) (6.0)\n",
      "Requirement already satisfied: requests>=2.23.0 in c:\\users\\fardhi dzakwan\\anaconda3\\lib\\site-packages (from -r C:/Ardhi/KULIAH SETISS/BIG DATA PROJECT/SATRIA DATA/FILE TAHUN LALU/comp-satria-data-2023/yolov9/requirements.txt (line 13)) (2.31.0)\n",
      "Requirement already satisfied: scipy>=1.4.1 in c:\\users\\fardhi dzakwan\\anaconda3\\lib\\site-packages (from -r C:/Ardhi/KULIAH SETISS/BIG DATA PROJECT/SATRIA DATA/FILE TAHUN LALU/comp-satria-data-2023/yolov9/requirements.txt (line 14)) (1.10.1)\n",
      "Requirement already satisfied: thop>=0.1.1 in c:\\users\\fardhi dzakwan\\anaconda3\\lib\\site-packages (from -r C:/Ardhi/KULIAH SETISS/BIG DATA PROJECT/SATRIA DATA/FILE TAHUN LALU/comp-satria-data-2023/yolov9/requirements.txt (line 15)) (0.1.1.post2209072238)\n",
      "Requirement already satisfied: torch>=1.7.0 in c:\\users\\fardhi dzakwan\\anaconda3\\lib\\site-packages (from -r C:/Ardhi/KULIAH SETISS/BIG DATA PROJECT/SATRIA DATA/FILE TAHUN LALU/comp-satria-data-2023/yolov9/requirements.txt (line 16)) (2.2.2)\n",
      "Requirement already satisfied: torchvision>=0.8.1 in c:\\users\\fardhi dzakwan\\anaconda3\\lib\\site-packages (from -r C:/Ardhi/KULIAH SETISS/BIG DATA PROJECT/SATRIA DATA/FILE TAHUN LALU/comp-satria-data-2023/yolov9/requirements.txt (line 17)) (0.17.2)\n",
      "Requirement already satisfied: tqdm>=4.64.0 in c:\\users\\fardhi dzakwan\\anaconda3\\lib\\site-packages (from -r C:/Ardhi/KULIAH SETISS/BIG DATA PROJECT/SATRIA DATA/FILE TAHUN LALU/comp-satria-data-2023/yolov9/requirements.txt (line 18)) (4.65.0)\n",
      "Requirement already satisfied: tensorboard>=2.4.1 in c:\\users\\fardhi dzakwan\\anaconda3\\lib\\site-packages (from -r C:/Ardhi/KULIAH SETISS/BIG DATA PROJECT/SATRIA DATA/FILE TAHUN LALU/comp-satria-data-2023/yolov9/requirements.txt (line 22)) (2.16.2)\n",
      "Requirement already satisfied: pandas>=1.1.4 in c:\\users\\fardhi dzakwan\\anaconda3\\lib\\site-packages (from -r C:/Ardhi/KULIAH SETISS/BIG DATA PROJECT/SATRIA DATA/FILE TAHUN LALU/comp-satria-data-2023/yolov9/requirements.txt (line 27)) (2.1.3)\n",
      "Requirement already satisfied: seaborn>=0.11.0 in c:\\users\\fardhi dzakwan\\anaconda3\\lib\\site-packages (from -r C:/Ardhi/KULIAH SETISS/BIG DATA PROJECT/SATRIA DATA/FILE TAHUN LALU/comp-satria-data-2023/yolov9/requirements.txt (line 28)) (0.12.2)\n",
      "Requirement already satisfied: albumentations>=1.0.3 in c:\\users\\fardhi dzakwan\\anaconda3\\lib\\site-packages (from -r C:/Ardhi/KULIAH SETISS/BIG DATA PROJECT/SATRIA DATA/FILE TAHUN LALU/comp-satria-data-2023/yolov9/requirements.txt (line 46)) (1.4.3)\n",
      "Requirement already satisfied: pycocotools>=2.0 in c:\\users\\fardhi dzakwan\\anaconda3\\lib\\site-packages (from -r C:/Ardhi/KULIAH SETISS/BIG DATA PROJECT/SATRIA DATA/FILE TAHUN LALU/comp-satria-data-2023/yolov9/requirements.txt (line 47)) (2.0.7)\n",
      "Requirement already satisfied: gitdb<5,>=4.0.1 in c:\\users\\fardhi dzakwan\\anaconda3\\lib\\site-packages (from gitpython->-r C:/Ardhi/KULIAH SETISS/BIG DATA PROJECT/SATRIA DATA/FILE TAHUN LALU/comp-satria-data-2023/yolov9/requirements.txt (line 5)) (4.0.11)\n",
      "Requirement already satisfied: backcall in c:\\users\\fardhi dzakwan\\anaconda3\\lib\\site-packages (from ipython->-r C:/Ardhi/KULIAH SETISS/BIG DATA PROJECT/SATRIA DATA/FILE TAHUN LALU/comp-satria-data-2023/yolov9/requirements.txt (line 6)) (0.2.0)\n",
      "Requirement already satisfied: decorator in c:\\users\\fardhi dzakwan\\anaconda3\\lib\\site-packages (from ipython->-r C:/Ardhi/KULIAH SETISS/BIG DATA PROJECT/SATRIA DATA/FILE TAHUN LALU/comp-satria-data-2023/yolov9/requirements.txt (line 6)) (5.1.1)\n",
      "Requirement already satisfied: jedi>=0.16 in c:\\users\\fardhi dzakwan\\anaconda3\\lib\\site-packages (from ipython->-r C:/Ardhi/KULIAH SETISS/BIG DATA PROJECT/SATRIA DATA/FILE TAHUN LALU/comp-satria-data-2023/yolov9/requirements.txt (line 6)) (0.18.1)\n",
      "Requirement already satisfied: matplotlib-inline in c:\\users\\fardhi dzakwan\\anaconda3\\lib\\site-packages (from ipython->-r C:/Ardhi/KULIAH SETISS/BIG DATA PROJECT/SATRIA DATA/FILE TAHUN LALU/comp-satria-data-2023/yolov9/requirements.txt (line 6)) (0.1.6)\n",
      "Requirement already satisfied: pickleshare in c:\\users\\fardhi dzakwan\\anaconda3\\lib\\site-packages (from ipython->-r C:/Ardhi/KULIAH SETISS/BIG DATA PROJECT/SATRIA DATA/FILE TAHUN LALU/comp-satria-data-2023/yolov9/requirements.txt (line 6)) (0.7.5)\n",
      "Requirement already satisfied: prompt-toolkit!=3.0.37,<3.1.0,>=3.0.30 in c:\\users\\fardhi dzakwan\\anaconda3\\lib\\site-packages (from ipython->-r C:/Ardhi/KULIAH SETISS/BIG DATA PROJECT/SATRIA DATA/FILE TAHUN LALU/comp-satria-data-2023/yolov9/requirements.txt (line 6)) (3.0.36)\n",
      "Requirement already satisfied: pygments>=2.4.0 in c:\\users\\fardhi dzakwan\\anaconda3\\lib\\site-packages (from ipython->-r C:/Ardhi/KULIAH SETISS/BIG DATA PROJECT/SATRIA DATA/FILE TAHUN LALU/comp-satria-data-2023/yolov9/requirements.txt (line 6)) (2.15.1)\n",
      "Requirement already satisfied: stack-data in c:\\users\\fardhi dzakwan\\anaconda3\\lib\\site-packages (from ipython->-r C:/Ardhi/KULIAH SETISS/BIG DATA PROJECT/SATRIA DATA/FILE TAHUN LALU/comp-satria-data-2023/yolov9/requirements.txt (line 6)) (0.2.0)\n",
      "Requirement already satisfied: traitlets>=5 in c:\\users\\fardhi dzakwan\\anaconda3\\lib\\site-packages (from ipython->-r C:/Ardhi/KULIAH SETISS/BIG DATA PROJECT/SATRIA DATA/FILE TAHUN LALU/comp-satria-data-2023/yolov9/requirements.txt (line 6)) (5.7.1)\n",
      "Requirement already satisfied: colorama in c:\\users\\fardhi dzakwan\\anaconda3\\lib\\site-packages (from ipython->-r C:/Ardhi/KULIAH SETISS/BIG DATA PROJECT/SATRIA DATA/FILE TAHUN LALU/comp-satria-data-2023/yolov9/requirements.txt (line 6)) (0.4.6)\n",
      "Requirement already satisfied: contourpy>=1.0.1 in c:\\users\\fardhi dzakwan\\anaconda3\\lib\\site-packages (from matplotlib>=3.2.2->-r C:/Ardhi/KULIAH SETISS/BIG DATA PROJECT/SATRIA DATA/FILE TAHUN LALU/comp-satria-data-2023/yolov9/requirements.txt (line 7)) (1.0.5)\n",
      "Requirement already satisfied: cycler>=0.10 in c:\\users\\fardhi dzakwan\\anaconda3\\lib\\site-packages (from matplotlib>=3.2.2->-r C:/Ardhi/KULIAH SETISS/BIG DATA PROJECT/SATRIA DATA/FILE TAHUN LALU/comp-satria-data-2023/yolov9/requirements.txt (line 7)) (0.11.0)\n",
      "Requirement already satisfied: fonttools>=4.22.0 in c:\\users\\fardhi dzakwan\\anaconda3\\lib\\site-packages (from matplotlib>=3.2.2->-r C:/Ardhi/KULIAH SETISS/BIG DATA PROJECT/SATRIA DATA/FILE TAHUN LALU/comp-satria-data-2023/yolov9/requirements.txt (line 7)) (4.25.0)\n",
      "Requirement already satisfied: kiwisolver>=1.0.1 in c:\\users\\fardhi dzakwan\\anaconda3\\lib\\site-packages (from matplotlib>=3.2.2->-r C:/Ardhi/KULIAH SETISS/BIG DATA PROJECT/SATRIA DATA/FILE TAHUN LALU/comp-satria-data-2023/yolov9/requirements.txt (line 7)) (1.4.4)\n",
      "Requirement already satisfied: packaging>=20.0 in c:\\users\\fardhi dzakwan\\anaconda3\\lib\\site-packages (from matplotlib>=3.2.2->-r C:/Ardhi/KULIAH SETISS/BIG DATA PROJECT/SATRIA DATA/FILE TAHUN LALU/comp-satria-data-2023/yolov9/requirements.txt (line 7)) (23.0)\n",
      "Requirement already satisfied: pyparsing>=2.3.1 in c:\\users\\fardhi dzakwan\\anaconda3\\lib\\site-packages (from matplotlib>=3.2.2->-r C:/Ardhi/KULIAH SETISS/BIG DATA PROJECT/SATRIA DATA/FILE TAHUN LALU/comp-satria-data-2023/yolov9/requirements.txt (line 7)) (3.0.9)\n",
      "Requirement already satisfied: python-dateutil>=2.7 in c:\\users\\fardhi dzakwan\\anaconda3\\lib\\site-packages (from matplotlib>=3.2.2->-r C:/Ardhi/KULIAH SETISS/BIG DATA PROJECT/SATRIA DATA/FILE TAHUN LALU/comp-satria-data-2023/yolov9/requirements.txt (line 7)) (2.8.2)\n",
      "Requirement already satisfied: charset-normalizer<4,>=2 in c:\\users\\fardhi dzakwan\\anaconda3\\lib\\site-packages (from requests>=2.23.0->-r C:/Ardhi/KULIAH SETISS/BIG DATA PROJECT/SATRIA DATA/FILE TAHUN LALU/comp-satria-data-2023/yolov9/requirements.txt (line 13)) (2.0.4)\n",
      "Requirement already satisfied: idna<4,>=2.5 in c:\\users\\fardhi dzakwan\\anaconda3\\lib\\site-packages (from requests>=2.23.0->-r C:/Ardhi/KULIAH SETISS/BIG DATA PROJECT/SATRIA DATA/FILE TAHUN LALU/comp-satria-data-2023/yolov9/requirements.txt (line 13)) (3.4)\n",
      "Requirement already satisfied: urllib3<3,>=1.21.1 in c:\\users\\fardhi dzakwan\\anaconda3\\lib\\site-packages (from requests>=2.23.0->-r C:/Ardhi/KULIAH SETISS/BIG DATA PROJECT/SATRIA DATA/FILE TAHUN LALU/comp-satria-data-2023/yolov9/requirements.txt (line 13)) (1.26.16)\n",
      "Requirement already satisfied: certifi>=2017.4.17 in c:\\users\\fardhi dzakwan\\anaconda3\\lib\\site-packages (from requests>=2.23.0->-r C:/Ardhi/KULIAH SETISS/BIG DATA PROJECT/SATRIA DATA/FILE TAHUN LALU/comp-satria-data-2023/yolov9/requirements.txt (line 13)) (2023.7.22)\n",
      "Requirement already satisfied: filelock in c:\\users\\fardhi dzakwan\\anaconda3\\lib\\site-packages (from torch>=1.7.0->-r C:/Ardhi/KULIAH SETISS/BIG DATA PROJECT/SATRIA DATA/FILE TAHUN LALU/comp-satria-data-2023/yolov9/requirements.txt (line 16)) (3.9.0)\n",
      "Requirement already satisfied: typing-extensions>=4.8.0 in c:\\users\\fardhi dzakwan\\anaconda3\\lib\\site-packages (from torch>=1.7.0->-r C:/Ardhi/KULIAH SETISS/BIG DATA PROJECT/SATRIA DATA/FILE TAHUN LALU/comp-satria-data-2023/yolov9/requirements.txt (line 16)) (4.10.0)\n",
      "Requirement already satisfied: sympy in c:\\users\\fardhi dzakwan\\anaconda3\\lib\\site-packages (from torch>=1.7.0->-r C:/Ardhi/KULIAH SETISS/BIG DATA PROJECT/SATRIA DATA/FILE TAHUN LALU/comp-satria-data-2023/yolov9/requirements.txt (line 16)) (1.11.1)\n",
      "Requirement already satisfied: networkx in c:\\users\\fardhi dzakwan\\anaconda3\\lib\\site-packages (from torch>=1.7.0->-r C:/Ardhi/KULIAH SETISS/BIG DATA PROJECT/SATRIA DATA/FILE TAHUN LALU/comp-satria-data-2023/yolov9/requirements.txt (line 16)) (3.1)\n",
      "Requirement already satisfied: jinja2 in c:\\users\\fardhi dzakwan\\anaconda3\\lib\\site-packages (from torch>=1.7.0->-r C:/Ardhi/KULIAH SETISS/BIG DATA PROJECT/SATRIA DATA/FILE TAHUN LALU/comp-satria-data-2023/yolov9/requirements.txt (line 16)) (3.1.2)\n",
      "Requirement already satisfied: fsspec in c:\\users\\fardhi dzakwan\\anaconda3\\lib\\site-packages (from torch>=1.7.0->-r C:/Ardhi/KULIAH SETISS/BIG DATA PROJECT/SATRIA DATA/FILE TAHUN LALU/comp-satria-data-2023/yolov9/requirements.txt (line 16)) (2023.3.0)\n",
      "Requirement already satisfied: absl-py>=0.4 in c:\\users\\fardhi dzakwan\\anaconda3\\lib\\site-packages (from tensorboard>=2.4.1->-r C:/Ardhi/KULIAH SETISS/BIG DATA PROJECT/SATRIA DATA/FILE TAHUN LALU/comp-satria-data-2023/yolov9/requirements.txt (line 22)) (2.1.0)\n",
      "Requirement already satisfied: grpcio>=1.48.2 in c:\\users\\fardhi dzakwan\\anaconda3\\lib\\site-packages (from tensorboard>=2.4.1->-r C:/Ardhi/KULIAH SETISS/BIG DATA PROJECT/SATRIA DATA/FILE TAHUN LALU/comp-satria-data-2023/yolov9/requirements.txt (line 22)) (1.62.1)\n",
      "Requirement already satisfied: markdown>=2.6.8 in c:\\users\\fardhi dzakwan\\anaconda3\\lib\\site-packages (from tensorboard>=2.4.1->-r C:/Ardhi/KULIAH SETISS/BIG DATA PROJECT/SATRIA DATA/FILE TAHUN LALU/comp-satria-data-2023/yolov9/requirements.txt (line 22)) (3.4.1)\n",
      "Requirement already satisfied: protobuf!=4.24.0,>=3.19.6 in c:\\users\\fardhi dzakwan\\anaconda3\\lib\\site-packages (from tensorboard>=2.4.1->-r C:/Ardhi/KULIAH SETISS/BIG DATA PROJECT/SATRIA DATA/FILE TAHUN LALU/comp-satria-data-2023/yolov9/requirements.txt (line 22)) (4.25.3)\n",
      "Requirement already satisfied: setuptools>=41.0.0 in c:\\users\\fardhi dzakwan\\anaconda3\\lib\\site-packages (from tensorboard>=2.4.1->-r C:/Ardhi/KULIAH SETISS/BIG DATA PROJECT/SATRIA DATA/FILE TAHUN LALU/comp-satria-data-2023/yolov9/requirements.txt (line 22)) (68.0.0)\n",
      "Requirement already satisfied: six>1.9 in c:\\users\\fardhi dzakwan\\anaconda3\\lib\\site-packages (from tensorboard>=2.4.1->-r C:/Ardhi/KULIAH SETISS/BIG DATA PROJECT/SATRIA DATA/FILE TAHUN LALU/comp-satria-data-2023/yolov9/requirements.txt (line 22)) (1.16.0)\n",
      "Requirement already satisfied: tensorboard-data-server<0.8.0,>=0.7.0 in c:\\users\\fardhi dzakwan\\anaconda3\\lib\\site-packages (from tensorboard>=2.4.1->-r C:/Ardhi/KULIAH SETISS/BIG DATA PROJECT/SATRIA DATA/FILE TAHUN LALU/comp-satria-data-2023/yolov9/requirements.txt (line 22)) (0.7.2)\n",
      "Requirement already satisfied: werkzeug>=1.0.1 in c:\\users\\fardhi dzakwan\\anaconda3\\lib\\site-packages (from tensorboard>=2.4.1->-r C:/Ardhi/KULIAH SETISS/BIG DATA PROJECT/SATRIA DATA/FILE TAHUN LALU/comp-satria-data-2023/yolov9/requirements.txt (line 22)) (2.2.3)\n",
      "Requirement already satisfied: pytz>=2020.1 in c:\\users\\fardhi dzakwan\\anaconda3\\lib\\site-packages (from pandas>=1.1.4->-r C:/Ardhi/KULIAH SETISS/BIG DATA PROJECT/SATRIA DATA/FILE TAHUN LALU/comp-satria-data-2023/yolov9/requirements.txt (line 27)) (2022.7)\n",
      "Requirement already satisfied: tzdata>=2022.1 in c:\\users\\fardhi dzakwan\\anaconda3\\lib\\site-packages (from pandas>=1.1.4->-r C:/Ardhi/KULIAH SETISS/BIG DATA PROJECT/SATRIA DATA/FILE TAHUN LALU/comp-satria-data-2023/yolov9/requirements.txt (line 27)) (2023.3)\n",
      "Requirement already satisfied: scikit-image>=0.21.0 in c:\\users\\fardhi dzakwan\\anaconda3\\lib\\site-packages (from albumentations>=1.0.3->-r C:/Ardhi/KULIAH SETISS/BIG DATA PROJECT/SATRIA DATA/FILE TAHUN LALU/comp-satria-data-2023/yolov9/requirements.txt (line 46)) (0.22.0)\n",
      "Requirement already satisfied: scikit-learn>=1.3.2 in c:\\users\\fardhi dzakwan\\anaconda3\\lib\\site-packages (from albumentations>=1.0.3->-r C:/Ardhi/KULIAH SETISS/BIG DATA PROJECT/SATRIA DATA/FILE TAHUN LALU/comp-satria-data-2023/yolov9/requirements.txt (line 46)) (1.4.1.post1)\n",
      "Requirement already satisfied: opencv-python-headless>=4.9.0 in c:\\users\\fardhi dzakwan\\anaconda3\\lib\\site-packages (from albumentations>=1.0.3->-r C:/Ardhi/KULIAH SETISS/BIG DATA PROJECT/SATRIA DATA/FILE TAHUN LALU/comp-satria-data-2023/yolov9/requirements.txt (line 46)) (4.9.0.80)\n",
      "Requirement already satisfied: smmap<6,>=3.0.1 in c:\\users\\fardhi dzakwan\\anaconda3\\lib\\site-packages (from gitdb<5,>=4.0.1->gitpython->-r C:/Ardhi/KULIAH SETISS/BIG DATA PROJECT/SATRIA DATA/FILE TAHUN LALU/comp-satria-data-2023/yolov9/requirements.txt (line 5)) (5.0.1)\n",
      "Requirement already satisfied: parso<0.9.0,>=0.8.0 in c:\\users\\fardhi dzakwan\\anaconda3\\lib\\site-packages (from jedi>=0.16->ipython->-r C:/Ardhi/KULIAH SETISS/BIG DATA PROJECT/SATRIA DATA/FILE TAHUN LALU/comp-satria-data-2023/yolov9/requirements.txt (line 6)) (0.8.3)\n",
      "Requirement already satisfied: wcwidth in c:\\users\\fardhi dzakwan\\anaconda3\\lib\\site-packages (from prompt-toolkit!=3.0.37,<3.1.0,>=3.0.30->ipython->-r C:/Ardhi/KULIAH SETISS/BIG DATA PROJECT/SATRIA DATA/FILE TAHUN LALU/comp-satria-data-2023/yolov9/requirements.txt (line 6)) (0.2.13)\n",
      "Requirement already satisfied: imageio>=2.27 in c:\\users\\fardhi dzakwan\\anaconda3\\lib\\site-packages (from scikit-image>=0.21.0->albumentations>=1.0.3->-r C:/Ardhi/KULIAH SETISS/BIG DATA PROJECT/SATRIA DATA/FILE TAHUN LALU/comp-satria-data-2023/yolov9/requirements.txt (line 46)) (2.34.0)\n",
      "Requirement already satisfied: tifffile>=2022.8.12 in c:\\users\\fardhi dzakwan\\anaconda3\\lib\\site-packages (from scikit-image>=0.21.0->albumentations>=1.0.3->-r C:/Ardhi/KULIAH SETISS/BIG DATA PROJECT/SATRIA DATA/FILE TAHUN LALU/comp-satria-data-2023/yolov9/requirements.txt (line 46)) (2024.2.12)\n",
      "Requirement already satisfied: lazy_loader>=0.3 in c:\\users\\fardhi dzakwan\\anaconda3\\lib\\site-packages (from scikit-image>=0.21.0->albumentations>=1.0.3->-r C:/Ardhi/KULIAH SETISS/BIG DATA PROJECT/SATRIA DATA/FILE TAHUN LALU/comp-satria-data-2023/yolov9/requirements.txt (line 46)) (0.4)\n",
      "Requirement already satisfied: joblib>=1.2.0 in c:\\users\\fardhi dzakwan\\anaconda3\\lib\\site-packages (from scikit-learn>=1.3.2->albumentations>=1.0.3->-r C:/Ardhi/KULIAH SETISS/BIG DATA PROJECT/SATRIA DATA/FILE TAHUN LALU/comp-satria-data-2023/yolov9/requirements.txt (line 46)) (1.2.0)\n",
      "Requirement already satisfied: threadpoolctl>=2.0.0 in c:\\users\\fardhi dzakwan\\anaconda3\\lib\\site-packages (from scikit-learn>=1.3.2->albumentations>=1.0.3->-r C:/Ardhi/KULIAH SETISS/BIG DATA PROJECT/SATRIA DATA/FILE TAHUN LALU/comp-satria-data-2023/yolov9/requirements.txt (line 46)) (2.2.0)\n",
      "Requirement already satisfied: MarkupSafe>=2.1.1 in c:\\users\\fardhi dzakwan\\anaconda3\\lib\\site-packages (from werkzeug>=1.0.1->tensorboard>=2.4.1->-r C:/Ardhi/KULIAH SETISS/BIG DATA PROJECT/SATRIA DATA/FILE TAHUN LALU/comp-satria-data-2023/yolov9/requirements.txt (line 22)) (2.1.1)\n",
      "Requirement already satisfied: executing in c:\\users\\fardhi dzakwan\\anaconda3\\lib\\site-packages (from stack-data->ipython->-r C:/Ardhi/KULIAH SETISS/BIG DATA PROJECT/SATRIA DATA/FILE TAHUN LALU/comp-satria-data-2023/yolov9/requirements.txt (line 6)) (0.8.3)\n",
      "Requirement already satisfied: asttokens in c:\\users\\fardhi dzakwan\\anaconda3\\lib\\site-packages (from stack-data->ipython->-r C:/Ardhi/KULIAH SETISS/BIG DATA PROJECT/SATRIA DATA/FILE TAHUN LALU/comp-satria-data-2023/yolov9/requirements.txt (line 6)) (2.0.5)\n",
      "Requirement already satisfied: pure-eval in c:\\users\\fardhi dzakwan\\anaconda3\\lib\\site-packages (from stack-data->ipython->-r C:/Ardhi/KULIAH SETISS/BIG DATA PROJECT/SATRIA DATA/FILE TAHUN LALU/comp-satria-data-2023/yolov9/requirements.txt (line 6)) (0.2.2)\n",
      "Requirement already satisfied: mpmath>=0.19 in c:\\users\\fardhi dzakwan\\anaconda3\\lib\\site-packages (from sympy->torch>=1.7.0->-r C:/Ardhi/KULIAH SETISS/BIG DATA PROJECT/SATRIA DATA/FILE TAHUN LALU/comp-satria-data-2023/yolov9/requirements.txt (line 16)) (1.3.0)\n"
     ]
    }
   ],
   "source": [
    "!pip install -r \"C:/Ardhi/KULIAH SETISS/BIG DATA PROJECT/SATRIA DATA/FILE TAHUN LALU/comp-satria-data-2023/yolov9/requirements.txt\""
   ]
  },
  {
   "cell_type": "code",
   "execution_count": 15,
   "metadata": {},
   "outputs": [
    {
     "name": "stdout",
     "output_type": "stream",
     "text": [
      "^C\n"
     ]
    }
   ],
   "source": [
    "#%cd yolov9 \n",
    "\n",
    "!python train_dual.py --workers 8 --batch 4 --img 640 --epochs 10 --data data.yaml --weights yolov9-e-converted.pt --device cpu --cfg models/detect/yolov9-e.yaml --hyp data/hyps/hyp.scratch-high.yaml "
   ]
  }
 ],
 "metadata": {
  "kernelspec": {
   "display_name": "base",
   "language": "python",
   "name": "python3"
  },
  "language_info": {
   "codemirror_mode": {
    "name": "ipython",
    "version": 3
   },
   "file_extension": ".py",
   "mimetype": "text/x-python",
   "name": "python",
   "nbconvert_exporter": "python",
   "pygments_lexer": "ipython3",
   "version": "3.11.4"
  }
 },
 "nbformat": 4,
 "nbformat_minor": 2
}
